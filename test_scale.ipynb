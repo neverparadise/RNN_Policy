{
 "cells": [
  {
   "cell_type": "code",
   "execution_count": 1,
   "metadata": {},
   "outputs": [],
   "source": [
    "import numpy as np\n",
    "width = 400\n",
    "height = 300\n",
    "def scale(array):\n",
    "    new_x = 2 * (array[0] - width / 2) / width\n",
    "    new_y = 2 * (array[1] - height / 2) / height\n",
    "    new_array = np.array([new_x, new_y])\n",
    "    return new_array\n",
    "\n",
    "def upscale(array):\n",
    "    new_x = array[0] * width / 2 + width / 2\n",
    "    new_y = array[1] * height / 2 + height / 2\n",
    "    new_array = np.array([new_x, new_y])\n",
    "    return new_array\n",
    "\n",
    "a = np.array([0, 0])\n",
    "b = np.array([400, 300])\n",
    "\n",
    "\n"
   ]
  },
  {
   "cell_type": "code",
   "execution_count": 2,
   "metadata": {},
   "outputs": [
    {
     "name": "stdout",
     "output_type": "stream",
     "text": [
      "[-1. -1.]\n",
      "[1. 1.]\n"
     ]
    }
   ],
   "source": [
    "print(scale(a))\n",
    "print(scale(b))\n"
   ]
  },
  {
   "cell_type": "code",
   "execution_count": 3,
   "metadata": {},
   "outputs": [
    {
     "name": "stdout",
     "output_type": "stream",
     "text": [
      "[100. 225.]\n",
      "[250.  262.5]\n"
     ]
    }
   ],
   "source": [
    "e = np.array([-0.5, 0.5])\n",
    "f = np.array([0.25, 0.75])\n",
    "print(upscale(e))\n",
    "print(upscale(f))\n"
   ]
  },
  {
   "cell_type": "code",
   "execution_count": null,
   "metadata": {},
   "outputs": [],
   "source": []
  }
 ],
 "metadata": {
  "kernelspec": {
   "display_name": "Python 3.7.11 ('minerl')",
   "language": "python",
   "name": "python3"
  },
  "language_info": {
   "codemirror_mode": {
    "name": "ipython",
    "version": 3
   },
   "file_extension": ".py",
   "mimetype": "text/x-python",
   "name": "python",
   "nbconvert_exporter": "python",
   "pygments_lexer": "ipython3",
   "version": "3.7.11"
  },
  "orig_nbformat": 4,
  "vscode": {
   "interpreter": {
    "hash": "266dbc1b53b3a75132c42213de358c469c42e7e8486df6091cb08cba7b9be0d5"
   }
  }
 },
 "nbformat": 4,
 "nbformat_minor": 2
}
